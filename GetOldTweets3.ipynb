{
 "cells": [
  {
   "cell_type": "code",
   "execution_count": null,
   "metadata": {
    "colab": {
     "base_uri": "https://localhost:8080/",
     "height": 193
    },
    "colab_type": "code",
    "id": "ZgXdu0oRDxnc",
    "outputId": "85616c86-6b30-485f-e8cd-40300cbeec3c"
   },
   "outputs": [
    {
     "name": "stdout",
     "output_type": "stream",
     "text": [
      "Collecting GetOldTweets3\n",
      "  Downloading https://files.pythonhosted.org/packages/ed/f4/a00c2a7c90801abc875325bb5416ce9090ac86d06a00cc887131bd73ba45/GetOldTweets3-0.0.11-py3-none-any.whl\n",
      "Requirement already satisfied: lxml>=3.5.0 in /usr/local/lib/python3.6/dist-packages (from GetOldTweets3) (4.2.6)\n",
      "Collecting pyquery>=1.2.10\n",
      "  Downloading https://files.pythonhosted.org/packages/78/43/95d42e386c61cb639d1a0b94f0c0b9f0b7d6b981ad3c043a836c8b5bc68b/pyquery-1.4.1-py2.py3-none-any.whl\n",
      "Collecting cssselect>0.7.9\n",
      "  Downloading https://files.pythonhosted.org/packages/3b/d4/3b5c17f00cce85b9a1e6f91096e1cc8e8ede2e1be8e96b87ce1ed09e92c5/cssselect-1.1.0-py2.py3-none-any.whl\n",
      "Installing collected packages: cssselect, pyquery, GetOldTweets3\n",
      "Successfully installed GetOldTweets3-0.0.11 cssselect-1.1.0 pyquery-1.4.1\n"
     ]
    }
   ],
   "source": [
    "!pip install GetOldTweets3\n"
   ]
  },
  {
   "cell_type": "code",
   "execution_count": null,
   "metadata": {
    "colab": {},
    "colab_type": "code",
    "id": "J_P8z7F5EPNL"
   },
   "outputs": [],
   "source": [
    "import GetOldTweets3 as got\n",
    "import pandas as pd"
   ]
  },
  {
   "cell_type": "code",
   "execution_count": null,
   "metadata": {
    "colab": {},
    "colab_type": "code",
    "id": "fZL5G9BeEQkA"
   },
   "outputs": [],
   "source": [
    "#Gleevec\n",
    "def get_tweets(state, startdate, enddate, maxtweet):\n",
    "    tweetCriteria = got.manager.TweetCriteria().setQuerySearch(\"Gleevec\")\\\n",
    "                                            .setSince(startdate)\\\n",
    "                                            .setUntil(enddate)\\\n",
    "                                            .setNear(state)\\\n",
    "                                            .setWithin(\"500mi\")\\\n",
    "                                            .setMaxTweets(maxtweet)\n",
    "    tweet = got.manager.TweetManager.getTweets(tweetCriteria)\n",
    "    \n",
    "    text_tweets = [[tw.id,\n",
    "                tw.date,\n",
    "                tw.username,\n",
    "                tw.text] for tw in tweet]\n",
    "    df_state= pd.DataFrame(text_tweets, columns = ['Id','Date','User', 'Text'])\n",
    "    \n",
    "    return df_state"
   ]
  },
  {
   "cell_type": "code",
   "execution_count": null,
   "metadata": {
    "colab": {
     "base_uri": "https://localhost:8080/",
     "height": 202
    },
    "colab_type": "code",
    "id": "zOztLZ8BEU9g",
    "outputId": "f9970080-f92b-4cae-9a1e-ed57e52428c8"
   },
   "outputs": [
    {
     "data": {
      "text/html": [
       "<div>\n",
       "<style scoped>\n",
       "    .dataframe tbody tr th:only-of-type {\n",
       "        vertical-align: middle;\n",
       "    }\n",
       "\n",
       "    .dataframe tbody tr th {\n",
       "        vertical-align: top;\n",
       "    }\n",
       "\n",
       "    .dataframe thead th {\n",
       "        text-align: right;\n",
       "    }\n",
       "</style>\n",
       "<table border=\"1\" class=\"dataframe\">\n",
       "  <thead>\n",
       "    <tr style=\"text-align: right;\">\n",
       "      <th></th>\n",
       "      <th>Id</th>\n",
       "      <th>Date</th>\n",
       "      <th>User</th>\n",
       "      <th>Text</th>\n",
       "    </tr>\n",
       "  </thead>\n",
       "  <tbody>\n",
       "    <tr>\n",
       "      <th>0</th>\n",
       "      <td>1293335036650033153</td>\n",
       "      <td>2020-08-11 23:54:36+00:00</td>\n",
       "      <td>SickAnimalBot</td>\n",
       "      <td>This seal needs Gleevec!</td>\n",
       "    </tr>\n",
       "    <tr>\n",
       "      <th>1</th>\n",
       "      <td>1293322812824915968</td>\n",
       "      <td>2020-08-11 23:06:02+00:00</td>\n",
       "      <td>MAGAHITMAN</td>\n",
       "      <td>Gleevec only works for the lucky few with GIST</td>\n",
       "    </tr>\n",
       "    <tr>\n",
       "      <th>2</th>\n",
       "      <td>1293319647308193794</td>\n",
       "      <td>2020-08-11 22:53:27+00:00</td>\n",
       "      <td>marlenelooney</td>\n",
       "      <td>I never said I knew your personal situation. I...</td>\n",
       "    </tr>\n",
       "    <tr>\n",
       "      <th>3</th>\n",
       "      <td>1293312181107412995</td>\n",
       "      <td>2020-08-11 22:23:47+00:00</td>\n",
       "      <td>MAGAHITMAN</td>\n",
       "      <td>Really? I'm sure you know so much about my sit...</td>\n",
       "    </tr>\n",
       "    <tr>\n",
       "      <th>4</th>\n",
       "      <td>1293092596210794496</td>\n",
       "      <td>2020-08-11 07:51:14+00:00</td>\n",
       "      <td>ohjesiam</td>\n",
       "      <td>OMG! I am obsessed with this! Dr. Fauci is up ...</td>\n",
       "    </tr>\n",
       "  </tbody>\n",
       "</table>\n",
       "</div>"
      ],
      "text/plain": [
       "                    Id  ...                                               Text\n",
       "0  1293335036650033153  ...                           This seal needs Gleevec!\n",
       "1  1293322812824915968  ...     Gleevec only works for the lucky few with GIST\n",
       "2  1293319647308193794  ...  I never said I knew your personal situation. I...\n",
       "3  1293312181107412995  ...  Really? I'm sure you know so much about my sit...\n",
       "4  1293092596210794496  ...  OMG! I am obsessed with this! Dr. Fauci is up ...\n",
       "\n",
       "[5 rows x 4 columns]"
      ]
     },
     "execution_count": 4,
     "metadata": {
      "tags": []
     },
     "output_type": "execute_result"
    }
   ],
   "source": [
    "df_1 = get_tweets('Gleevec', \"2012-08-01\", \"2020-08-12\", 10000)\n",
    "df_1.head()"
   ]
  },
  {
   "cell_type": "code",
   "execution_count": null,
   "metadata": {
    "colab": {},
    "colab_type": "code",
    "id": "XHEFHOAgEqYS"
   },
   "outputs": [],
   "source": [
    "df_1.to_csv('/content/Gleevec.csv',index=False)\n",
    " "
   ]
  },
  {
   "cell_type": "code",
   "execution_count": null,
   "metadata": {
    "colab": {},
    "colab_type": "code",
    "id": "s9NLP81OGDnp"
   },
   "outputs": [],
   "source": [
    "#Coronavirus\n",
    "def get_tweets(state, startdate, enddate, maxtweet):\n",
    "    tweetCriteria = got.manager.TweetCriteria().setQuerySearch(\"corona\")\\\n",
    "                                            .setSince(startdate)\\\n",
    "                                            .setUntil(enddate)\\\n",
    "                                            .setNear(state)\\\n",
    "                                            .setWithin(\"500mi\")\\\n",
    "                                            .setMaxTweets(maxtweet)\n",
    "    tweet = got.manager.TweetManager.getTweets(tweetCriteria)\n",
    "    \n",
    "    text_tweets = [[tw.id,\n",
    "                tw.date,\n",
    "                tw.username,\n",
    "                tw.text] for tw in tweet]\n",
    "    df_state= pd.DataFrame(text_tweets, columns = ['Id','Date','User', 'Text'])\n",
    "    \n",
    "    return df_state"
   ]
  },
  {
   "cell_type": "code",
   "execution_count": null,
   "metadata": {
    "colab": {
     "base_uri": "https://localhost:8080/",
     "height": 202
    },
    "colab_type": "code",
    "id": "KF3XBA2QGFbS",
    "outputId": "81ccede1-8424-48e3-cbd6-71f108fbcbc8"
   },
   "outputs": [
    {
     "data": {
      "text/html": [
       "<div>\n",
       "<style scoped>\n",
       "    .dataframe tbody tr th:only-of-type {\n",
       "        vertical-align: middle;\n",
       "    }\n",
       "\n",
       "    .dataframe tbody tr th {\n",
       "        vertical-align: top;\n",
       "    }\n",
       "\n",
       "    .dataframe thead th {\n",
       "        text-align: right;\n",
       "    }\n",
       "</style>\n",
       "<table border=\"1\" class=\"dataframe\">\n",
       "  <thead>\n",
       "    <tr style=\"text-align: right;\">\n",
       "      <th></th>\n",
       "      <th>Id</th>\n",
       "      <th>Date</th>\n",
       "      <th>User</th>\n",
       "      <th>Text</th>\n",
       "    </tr>\n",
       "  </thead>\n",
       "  <tbody>\n",
       "    <tr>\n",
       "      <th>0</th>\n",
       "      <td>1293332201346445312</td>\n",
       "      <td>2020-08-11 23:43:20+00:00</td>\n",
       "      <td>wubzzzzz</td>\n",
       "      <td>all i wanted this year was to be a fucking big...</td>\n",
       "    </tr>\n",
       "    <tr>\n",
       "      <th>1</th>\n",
       "      <td>1293329929392680962</td>\n",
       "      <td>2020-08-11 23:34:18+00:00</td>\n",
       "      <td>illectricinc</td>\n",
       "      <td>⚡︎ Roughed in the #electrical for a small addi...</td>\n",
       "    </tr>\n",
       "    <tr>\n",
       "      <th>2</th>\n",
       "      <td>1293328938857459713</td>\n",
       "      <td>2020-08-11 23:30:22+00:00</td>\n",
       "      <td>sophiatseliem</td>\n",
       "      <td>REPORT: NEW YORK STATE’S CORONA NURSING HOME D...</td>\n",
       "    </tr>\n",
       "    <tr>\n",
       "      <th>3</th>\n",
       "      <td>1293324813637804033</td>\n",
       "      <td>2020-08-11 23:13:59+00:00</td>\n",
       "      <td>WesAdventureZ</td>\n",
       "      <td>Baa! Taco Tuesday courtesy of @great_white_hut...</td>\n",
       "    </tr>\n",
       "    <tr>\n",
       "      <th>4</th>\n",
       "      <td>1293318432780247040</td>\n",
       "      <td>2020-08-11 22:48:37+00:00</td>\n",
       "      <td>Metal_Lens28</td>\n",
       "      <td>What your religion is Corona ?</td>\n",
       "    </tr>\n",
       "  </tbody>\n",
       "</table>\n",
       "</div>"
      ],
      "text/plain": [
       "                    Id  ...                                               Text\n",
       "0  1293332201346445312  ...  all i wanted this year was to be a fucking big...\n",
       "1  1293329929392680962  ...  ⚡︎ Roughed in the #electrical for a small addi...\n",
       "2  1293328938857459713  ...  REPORT: NEW YORK STATE’S CORONA NURSING HOME D...\n",
       "3  1293324813637804033  ...  Baa! Taco Tuesday courtesy of @great_white_hut...\n",
       "4  1293318432780247040  ...                    What your religion is Corona ? \n",
       "\n",
       "[5 rows x 4 columns]"
      ]
     },
     "execution_count": 7,
     "metadata": {
      "tags": []
     },
     "output_type": "execute_result"
    }
   ],
   "source": [
    "df_1 = get_tweets('corona', \"2019-08-01\", \"2020-08-12\", 10000)\n",
    "df_1.head()"
   ]
  },
  {
   "cell_type": "code",
   "execution_count": null,
   "metadata": {
    "colab": {},
    "colab_type": "code",
    "id": "VwAqITyGGGuY"
   },
   "outputs": [],
   "source": [
    "df_1.to_csv('/content/coronavirus.csv',index=False)"
   ]
  }
 ],
 "metadata": {
  "colab": {
   "collapsed_sections": [],
   "name": "GetOldTweets3.ipynb",
   "provenance": []
  },
  "kernelspec": {
   "display_name": "Python 3",
   "language": "python",
   "name": "python3"
  },
  "language_info": {
   "codemirror_mode": {
    "name": "ipython",
    "version": 3
   },
   "file_extension": ".py",
   "mimetype": "text/x-python",
   "name": "python",
   "nbconvert_exporter": "python",
   "pygments_lexer": "ipython3",
   "version": "3.8.3"
  }
 },
 "nbformat": 4,
 "nbformat_minor": 1
}
